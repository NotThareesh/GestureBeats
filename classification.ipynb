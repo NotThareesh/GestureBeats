{
 "cells": [
  {
   "cell_type": "code",
   "execution_count": 39,
   "metadata": {},
   "outputs": [],
   "source": [
    "import matplotlib.pyplot as plt\n",
    "import pandas as pd\n",
    "from sklearn.model_selection import train_test_split\n",
    "from sklearn.svm import SVC\n",
    "from sklearn.metrics import accuracy_score, classification_report, confusion_matrix\n",
    "import seaborn as sns\n",
    "import numpy as np\n",
    "import joblib"
   ]
  },
  {
   "cell_type": "code",
   "execution_count": 40,
   "metadata": {},
   "outputs": [
    {
     "data": {
      "text/html": [
       "<div>\n",
       "<style scoped>\n",
       "    .dataframe tbody tr th:only-of-type {\n",
       "        vertical-align: middle;\n",
       "    }\n",
       "\n",
       "    .dataframe tbody tr th {\n",
       "        vertical-align: top;\n",
       "    }\n",
       "\n",
       "    .dataframe thead th {\n",
       "        text-align: right;\n",
       "    }\n",
       "</style>\n",
       "<table border=\"1\" class=\"dataframe\">\n",
       "  <thead>\n",
       "    <tr style=\"text-align: right;\">\n",
       "      <th></th>\n",
       "      <th>x0</th>\n",
       "      <th>y0</th>\n",
       "      <th>z0</th>\n",
       "      <th>x1</th>\n",
       "      <th>y1</th>\n",
       "      <th>z1</th>\n",
       "      <th>x2</th>\n",
       "      <th>y2</th>\n",
       "      <th>z2</th>\n",
       "      <th>x3</th>\n",
       "      <th>...</th>\n",
       "      <th>z17</th>\n",
       "      <th>x18</th>\n",
       "      <th>y18</th>\n",
       "      <th>z18</th>\n",
       "      <th>x19</th>\n",
       "      <th>y19</th>\n",
       "      <th>z19</th>\n",
       "      <th>x20</th>\n",
       "      <th>y20</th>\n",
       "      <th>z20</th>\n",
       "    </tr>\n",
       "  </thead>\n",
       "  <tbody>\n",
       "    <tr>\n",
       "      <th>0</th>\n",
       "      <td>0.0</td>\n",
       "      <td>0.0</td>\n",
       "      <td>0.0</td>\n",
       "      <td>-0.051507</td>\n",
       "      <td>-0.014685</td>\n",
       "      <td>-0.005274</td>\n",
       "      <td>-0.099666</td>\n",
       "      <td>-0.056508</td>\n",
       "      <td>-0.011437</td>\n",
       "      <td>-0.135981</td>\n",
       "      <td>...</td>\n",
       "      <td>-0.035315</td>\n",
       "      <td>-0.013343</td>\n",
       "      <td>-0.289512</td>\n",
       "      <td>-0.047603</td>\n",
       "      <td>-0.013333</td>\n",
       "      <td>-0.348442</td>\n",
       "      <td>-0.048902</td>\n",
       "      <td>-0.015137</td>\n",
       "      <td>-0.404078</td>\n",
       "      <td>-0.047788</td>\n",
       "    </tr>\n",
       "    <tr>\n",
       "      <th>1</th>\n",
       "      <td>0.0</td>\n",
       "      <td>0.0</td>\n",
       "      <td>0.0</td>\n",
       "      <td>-0.051288</td>\n",
       "      <td>-0.018117</td>\n",
       "      <td>-0.006239</td>\n",
       "      <td>-0.097682</td>\n",
       "      <td>-0.058770</td>\n",
       "      <td>-0.013647</td>\n",
       "      <td>-0.133172</td>\n",
       "      <td>...</td>\n",
       "      <td>-0.036984</td>\n",
       "      <td>-0.005763</td>\n",
       "      <td>-0.288941</td>\n",
       "      <td>-0.049872</td>\n",
       "      <td>-0.003863</td>\n",
       "      <td>-0.348253</td>\n",
       "      <td>-0.050804</td>\n",
       "      <td>-0.003369</td>\n",
       "      <td>-0.404901</td>\n",
       "      <td>-0.049180</td>\n",
       "    </tr>\n",
       "    <tr>\n",
       "      <th>2</th>\n",
       "      <td>0.0</td>\n",
       "      <td>0.0</td>\n",
       "      <td>0.0</td>\n",
       "      <td>-0.049602</td>\n",
       "      <td>-0.016790</td>\n",
       "      <td>-0.005081</td>\n",
       "      <td>-0.097026</td>\n",
       "      <td>-0.060447</td>\n",
       "      <td>-0.010841</td>\n",
       "      <td>-0.132746</td>\n",
       "      <td>...</td>\n",
       "      <td>-0.035551</td>\n",
       "      <td>-0.005846</td>\n",
       "      <td>-0.292315</td>\n",
       "      <td>-0.048447</td>\n",
       "      <td>-0.003593</td>\n",
       "      <td>-0.351420</td>\n",
       "      <td>-0.049840</td>\n",
       "      <td>-0.003302</td>\n",
       "      <td>-0.408010</td>\n",
       "      <td>-0.048638</td>\n",
       "    </tr>\n",
       "    <tr>\n",
       "      <th>3</th>\n",
       "      <td>0.0</td>\n",
       "      <td>0.0</td>\n",
       "      <td>0.0</td>\n",
       "      <td>-0.050999</td>\n",
       "      <td>-0.019599</td>\n",
       "      <td>-0.006350</td>\n",
       "      <td>-0.097345</td>\n",
       "      <td>-0.061749</td>\n",
       "      <td>-0.013809</td>\n",
       "      <td>-0.132698</td>\n",
       "      <td>...</td>\n",
       "      <td>-0.036468</td>\n",
       "      <td>-0.006652</td>\n",
       "      <td>-0.292402</td>\n",
       "      <td>-0.049939</td>\n",
       "      <td>-0.004653</td>\n",
       "      <td>-0.352190</td>\n",
       "      <td>-0.051289</td>\n",
       "      <td>-0.003949</td>\n",
       "      <td>-0.408815</td>\n",
       "      <td>-0.049752</td>\n",
       "    </tr>\n",
       "    <tr>\n",
       "      <th>4</th>\n",
       "      <td>0.0</td>\n",
       "      <td>0.0</td>\n",
       "      <td>0.0</td>\n",
       "      <td>-0.054792</td>\n",
       "      <td>-0.015661</td>\n",
       "      <td>-0.002931</td>\n",
       "      <td>-0.101906</td>\n",
       "      <td>-0.058319</td>\n",
       "      <td>-0.007906</td>\n",
       "      <td>-0.137414</td>\n",
       "      <td>...</td>\n",
       "      <td>-0.035768</td>\n",
       "      <td>-0.010248</td>\n",
       "      <td>-0.291840</td>\n",
       "      <td>-0.048314</td>\n",
       "      <td>-0.008680</td>\n",
       "      <td>-0.351023</td>\n",
       "      <td>-0.049753</td>\n",
       "      <td>-0.008603</td>\n",
       "      <td>-0.406822</td>\n",
       "      <td>-0.048734</td>\n",
       "    </tr>\n",
       "  </tbody>\n",
       "</table>\n",
       "<p>5 rows × 63 columns</p>\n",
       "</div>"
      ],
      "text/plain": [
       "    x0   y0   z0        x1        y1        z1        x2        y2        z2  \\\n",
       "0  0.0  0.0  0.0 -0.051507 -0.014685 -0.005274 -0.099666 -0.056508 -0.011437   \n",
       "1  0.0  0.0  0.0 -0.051288 -0.018117 -0.006239 -0.097682 -0.058770 -0.013647   \n",
       "2  0.0  0.0  0.0 -0.049602 -0.016790 -0.005081 -0.097026 -0.060447 -0.010841   \n",
       "3  0.0  0.0  0.0 -0.050999 -0.019599 -0.006350 -0.097345 -0.061749 -0.013809   \n",
       "4  0.0  0.0  0.0 -0.054792 -0.015661 -0.002931 -0.101906 -0.058319 -0.007906   \n",
       "\n",
       "         x3  ...       z17       x18       y18       z18       x19       y19  \\\n",
       "0 -0.135981  ... -0.035315 -0.013343 -0.289512 -0.047603 -0.013333 -0.348442   \n",
       "1 -0.133172  ... -0.036984 -0.005763 -0.288941 -0.049872 -0.003863 -0.348253   \n",
       "2 -0.132746  ... -0.035551 -0.005846 -0.292315 -0.048447 -0.003593 -0.351420   \n",
       "3 -0.132698  ... -0.036468 -0.006652 -0.292402 -0.049939 -0.004653 -0.352190   \n",
       "4 -0.137414  ... -0.035768 -0.010248 -0.291840 -0.048314 -0.008680 -0.351023   \n",
       "\n",
       "        z19       x20       y20       z20  \n",
       "0 -0.048902 -0.015137 -0.404078 -0.047788  \n",
       "1 -0.050804 -0.003369 -0.404901 -0.049180  \n",
       "2 -0.049840 -0.003302 -0.408010 -0.048638  \n",
       "3 -0.051289 -0.003949 -0.408815 -0.049752  \n",
       "4 -0.049753 -0.008603 -0.406822 -0.048734  \n",
       "\n",
       "[5 rows x 63 columns]"
      ]
     },
     "execution_count": 40,
     "metadata": {},
     "output_type": "execute_result"
    }
   ],
   "source": [
    "# Load your CSV data with landmarks and gesture labels\n",
    "data = pd.read_csv(\"hand_gesture_data.csv\", index_col=False)\n",
    "\n",
    "# Separate features (landmark coordinates) and labels (gesture labels)\n",
    "X = data.drop(columns=['label'])  # Features (landmarks x, y, z)\n",
    "y = data['label']  # Labels (gesture)\n",
    "\n",
    "X.head()"
   ]
  },
  {
   "cell_type": "code",
   "execution_count": 41,
   "metadata": {},
   "outputs": [
    {
     "name": "stdout",
     "output_type": "stream",
     "text": [
      "Accuracy: 0.9987577639751553\n",
      "\n",
      "Classification Report:\n",
      "              precision    recall  f1-score   support\n",
      "\n",
      "           0       1.00      1.00      1.00       148\n",
      "           1       1.00      0.99      1.00       136\n",
      "           2       1.00      1.00      1.00       101\n",
      "           3       1.00      1.00      1.00        93\n",
      "           4       1.00      1.00      1.00        96\n",
      "           5       1.00      1.00      1.00       132\n",
      "           6       0.99      1.00      0.99        99\n",
      "\n",
      "    accuracy                           1.00       805\n",
      "   macro avg       1.00      1.00      1.00       805\n",
      "weighted avg       1.00      1.00      1.00       805\n",
      "\n"
     ]
    },
    {
     "data": {
      "image/png": "[encoded data removed]",
      "text/plain": [
       "<Figure size 640x480 with 1 Axes>"
      ]
     },
     "metadata": {},
     "output_type": "display_data"
    }
   ],
   "source": [
    "# Split the data into training and testing sets\n",
    "X_train, X_test, y_train, y_test = train_test_split(X, y, test_size=0.2, random_state=42)\n",
    "\n",
    "# Initialize the Logistic Regression model (since it's for classification)\n",
    "model = SVC(kernel='rbf', probability=True)\n",
    "\n",
    "# Train the model\n",
    "model.fit(X_train, y_train)\n",
    "\n",
    "# Make predictions on the test set\n",
    "y_pred = model.predict(X_test)\n",
    "\n",
    "# Evaluate the model\n",
    "accuracy = accuracy_score(y_test, y_pred)\n",
    "print(\"Accuracy:\", accuracy)\n",
    "\n",
    "# Optionally, print a detailed classification report\n",
    "print(\"\\nClassification Report:\")\n",
    "print(classification_report(y_test, y_pred))\n",
    "\n",
    "# You can also visualize the predictions vs actual values (if desired)\n",
    "\n",
    "plt.scatter(y_test, y_pred)\n",
    "plt.xlabel(\"True Labels\")\n",
    "plt.ylabel(\"Predicted Labels\")\n",
    "plt.title(\"True vs Predicted Labels\")\n",
    "plt.show()"
   ]
  },
  {
   "cell_type": "code",
   "execution_count": 42,
   "metadata": {},
   "outputs": [
    {
     "data": {
      "text/plain": [
       "<Axes: >"
      ]
     },
     "execution_count": 42,
     "metadata": {},
     "output_type": "execute_result"
    },
    {
     "data": {
      "image/png": "[encoded data removed]",
      "text/plain": [
       "<Figure size 800x600 with 2 Axes>"
      ]
     },
     "metadata": {},
     "output_type": "display_data"
    }
   ],
   "source": [
    "cm = confusion_matrix(y_test, y_pred)\n",
    "\n",
    "plt.figure(figsize=(8, 6))\n",
    "sns.heatmap(cm, annot=True, fmt='d', cmap='Blues', xticklabels=np.unique(y), yticklabels=np.unique(y))"
   ]
  },
  {
   "cell_type": "code",
   "execution_count": 43,
   "metadata": {},
   "outputs": [
    {
     "name": "stdout",
     "output_type": "stream",
     "text": [
      "Model saved as 'gesture_model.pkl'\n"
     ]
    }
   ],
   "source": [
    "joblib.dump(model, 'gesture_model.pkl')\n",
    "print(\"Model saved as 'gesture_model.pkl'\")"
   ]
  }
 ],
 "metadata": {
  "kernelspec": {
   "display_name": "origo",
   "language": "python",
   "name": "python3"
  },
  "language_info": {
   "codemirror_mode": {
    "name": "ipython",
    "version": 3
   },
   "file_extension": ".py",
   "mimetype": "text/x-python",
   "name": "python",
   "nbconvert_exporter": "python",
   "pygments_lexer": "ipython3",
   "version": "3.10.16"
  }
 },
 "nbformat": 4,
 "nbformat_minor": 2
}
